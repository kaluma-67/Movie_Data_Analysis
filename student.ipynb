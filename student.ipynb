{
 "cells": [
  {
   "cell_type": "markdown",
   "metadata": {},
   "source": [
    "## Final Project Submission\n",
    "\n",
    "Please fill out:\n",
    "* Student name: Titus Kaluma\n",
    "* Student pace: full time_Remote\n",
    "* Scheduled project review date/time: \n",
    "* Instructor name: ASha Deen\n",
    "* Blog post URL:N/A\n"
   ]
  },
  {
   "cell_type": "markdown",
   "metadata": {},
   "source": [
    "#### Import all the required libraries below;"
   ]
  },
  {
   "cell_type": "code",
   "execution_count": 22,
   "metadata": {},
   "outputs": [],
   "source": [
    "import csv\n",
    "import pandas as pd\n",
    "import sqlite3\n",
    "import seaborn as sns\n",
    "import numpy as np\n",
    "import locale\n",
    "import matplotlib.pyplot as plt\n",
    "%matplotlib inline\n"
   ]
  },
  {
   "cell_type": "markdown",
   "metadata": {},
   "source": [
    "#### Read the Box Office Mojo CSV, convert it to a Panda Dataframe and assign it to the variable df_BOM.\n",
    "#### Preview the data and check for missing values."
   ]
  },
  {
   "cell_type": "code",
   "execution_count": 2,
   "metadata": {},
   "outputs": [
    {
     "name": "stdout",
     "output_type": "stream",
     "text": [
      "title                0\n",
      "studio               5\n",
      "domestic_gross      28\n",
      "foreign_gross     1350\n",
      "year                 0\n",
      "dtype: int64\n",
      "                                            title      studio  domestic_gross  \\\n",
      "0                                     Toy Story 3          BV     415000000.0   \n",
      "1                      Alice in Wonderland (2010)          BV     334200000.0   \n",
      "2     Harry Potter and the Deathly Hallows Part 1          WB     296000000.0   \n",
      "3                                       Inception          WB     292600000.0   \n",
      "4                             Shrek Forever After        P/DW     238700000.0   \n",
      "...                                           ...         ...             ...   \n",
      "3382                                    The Quake       Magn.          6200.0   \n",
      "3383                  Edward II (2018 re-release)          FM          4800.0   \n",
      "3384                                     El Pacto        Sony          2500.0   \n",
      "3385                                     The Swan  Synergetic          2400.0   \n",
      "3386                            An Actor Prepares       Grav.          1700.0   \n",
      "\n",
      "     foreign_gross  year  \n",
      "0        652000000  2010  \n",
      "1        691300000  2010  \n",
      "2        664300000  2010  \n",
      "3        535700000  2010  \n",
      "4        513900000  2010  \n",
      "...            ...   ...  \n",
      "3382           NaN  2018  \n",
      "3383           NaN  2018  \n",
      "3384           NaN  2018  \n",
      "3385           NaN  2018  \n",
      "3386           NaN  2018  \n",
      "\n",
      "[3387 rows x 5 columns]\n"
     ]
    }
   ],
   "source": [
    "df_BOM=pd.read_csv('Data\\BOM.csv')\n",
    "print(df_BOM.isna().sum())\n",
    "print(df_BOM)\n"
   ]
  },
  {
   "cell_type": "markdown",
   "metadata": {},
   "source": [
    "#### Read the Rotten Tomatoes_Movie Info TSV, convert it to a Panda Dataframe and assign it to the variable df_RTMI.\n",
    "#### Review the data and check for missing values."
   ]
  },
  {
   "cell_type": "code",
   "execution_count": 3,
   "metadata": {},
   "outputs": [
    {
     "name": "stdout",
     "output_type": "stream",
     "text": [
      "id                 0\n",
      "synopsis          62\n",
      "rating             3\n",
      "genre              8\n",
      "director         199\n",
      "writer           449\n",
      "theater_date     359\n",
      "dvd_date         359\n",
      "currency        1220\n",
      "box_office      1220\n",
      "runtime           30\n",
      "studio          1066\n",
      "dtype: int64\n",
      "        id                                           synopsis rating  \\\n",
      "0        1  This gritty, fast-paced, and innovative police...      R   \n",
      "1        3  New York City, not-too-distant-future: Eric Pa...      R   \n",
      "2        5  Illeana Douglas delivers a superb performance ...      R   \n",
      "3        6  Michael Douglas runs afoul of a treacherous su...      R   \n",
      "4        7                                                NaN     NR   \n",
      "...    ...                                                ...    ...   \n",
      "1555  1996  Forget terrorists or hijackers -- there's a ha...      R   \n",
      "1556  1997  The popular Saturday Night Live sketch was exp...     PG   \n",
      "1557  1998  Based on a novel by Richard Powell, when the l...      G   \n",
      "1558  1999  The Sandlot is a coming-of-age story about a g...     PG   \n",
      "1559  2000  Suspended from the force, Paris cop Hubert is ...      R   \n",
      "\n",
      "                                                  genre            director  \\\n",
      "0                   Action and Adventure|Classics|Drama    William Friedkin   \n",
      "1                     Drama|Science Fiction and Fantasy    David Cronenberg   \n",
      "2                     Drama|Musical and Performing Arts      Allison Anders   \n",
      "3                            Drama|Mystery and Suspense      Barry Levinson   \n",
      "4                                         Drama|Romance      Rodney Bennett   \n",
      "...                                                 ...                 ...   \n",
      "1555   Action and Adventure|Horror|Mystery and Suspense                 NaN   \n",
      "1556                 Comedy|Science Fiction and Fantasy        Steve Barron   \n",
      "1557  Classics|Comedy|Drama|Musical and Performing Arts      Gordon Douglas   \n",
      "1558    Comedy|Drama|Kids and Family|Sports and Fitness  David Mickey Evans   \n",
      "1559  Action and Adventure|Art House and Internation...                 NaN   \n",
      "\n",
      "                                                writer  theater_date  \\\n",
      "0                                       Ernest Tidyman   Oct 9, 1971   \n",
      "1                         David Cronenberg|Don DeLillo  Aug 17, 2012   \n",
      "2                                       Allison Anders  Sep 13, 1996   \n",
      "3                      Paul Attanasio|Michael Crichton   Dec 9, 1994   \n",
      "4                                         Giles Cooper           NaN   \n",
      "...                                                ...           ...   \n",
      "1555                                               NaN  Aug 18, 2006   \n",
      "1556  Terry Turner|Tom Davis|Dan Aykroyd|Bonnie Turner  Jul 23, 1993   \n",
      "1557                                               NaN   Jan 1, 1962   \n",
      "1558                  David Mickey Evans|Robert Gunter   Apr 1, 1993   \n",
      "1559                                        Luc Besson  Sep 27, 2001   \n",
      "\n",
      "          dvd_date currency  box_office      runtime             studio  \n",
      "0     Sep 25, 2001      NaN         NaN  104 minutes                NaN  \n",
      "1      Jan 1, 2013        $     600,000  108 minutes  Entertainment One  \n",
      "2     Apr 18, 2000      NaN         NaN  116 minutes                NaN  \n",
      "3     Aug 27, 1997      NaN         NaN  128 minutes                NaN  \n",
      "4              NaN      NaN         NaN  200 minutes                NaN  \n",
      "...            ...      ...         ...          ...                ...  \n",
      "1555   Jan 2, 2007        $  33,886,034  106 minutes    New Line Cinema  \n",
      "1556  Apr 17, 2001      NaN         NaN   88 minutes  Paramount Vantage  \n",
      "1557  May 11, 2004      NaN         NaN  111 minutes                NaN  \n",
      "1558  Jan 29, 2002      NaN         NaN  101 minutes                NaN  \n",
      "1559  Feb 11, 2003      NaN         NaN   94 minutes  Columbia Pictures  \n",
      "\n",
      "[1560 rows x 12 columns]\n"
     ]
    }
   ],
   "source": [
    "df_RTMI=pd.read_csv('Data\\RTMovieInfo.tsv', delimiter='\\t')\n",
    "print(df_RTMI.isna().sum())\n",
    "print(df_RTMI)"
   ]
  },
  {
   "cell_type": "markdown",
   "metadata": {},
   "source": [
    "#### Read the Rotten Tomatoes_Reviews TSV, convert it to a Panda Dataframe and assign it to the variable df_RTR.\n",
    "#### Review the data and check for missing values."
   ]
  },
  {
   "cell_type": "code",
   "execution_count": 4,
   "metadata": {},
   "outputs": [
    {
     "name": "stdout",
     "output_type": "stream",
     "text": [
      "id                0\n",
      "review         5563\n",
      "rating        13517\n",
      "fresh             0\n",
      "critic         2722\n",
      "top_critic        0\n",
      "publisher       309\n",
      "date              0\n",
      "dtype: int64\n",
      "         id                                             review rating   fresh  \\\n",
      "0         3  A distinctly gallows take on contemporary fina...    3/5   fresh   \n",
      "1         3  It's an allegory in search of a meaning that n...    NaN  rotten   \n",
      "2         3  ... life lived in a bubble in financial dealin...    NaN   fresh   \n",
      "3         3  Continuing along a line introduced in last yea...    NaN   fresh   \n",
      "4         3             ... a perverse twist on neorealism...     NaN   fresh   \n",
      "...     ...                                                ...    ...     ...   \n",
      "54427  2000  The real charm of this trifle is the deadpan c...    NaN   fresh   \n",
      "54428  2000                                                NaN    1/5  rotten   \n",
      "54429  2000                                                NaN    2/5  rotten   \n",
      "54430  2000                                                NaN  2.5/5  rotten   \n",
      "54431  2000                                                NaN    3/5   fresh   \n",
      "\n",
      "                  critic  top_critic         publisher                date  \n",
      "0             PJ Nabarro           0   Patrick Nabarro   November 10, 2018  \n",
      "1         Annalee Newitz           0           io9.com        May 23, 2018  \n",
      "2           Sean Axmaker           0  Stream on Demand     January 4, 2018  \n",
      "3          Daniel Kasman           0              MUBI   November 16, 2017  \n",
      "4                    NaN           0      Cinema Scope    October 12, 2017  \n",
      "...                  ...         ...               ...                 ...  \n",
      "54427      Laura Sinagra           1     Village Voice  September 24, 2002  \n",
      "54428  Michael Szymanski           0        Zap2it.com  September 21, 2005  \n",
      "54429       Emanuel Levy           0   EmanuelLevy.Com       July 17, 2005  \n",
      "54430   Christopher Null           0    Filmcritic.com   September 7, 2003  \n",
      "54431    Nicolas Lacroix           0      Showbizz.net   November 12, 2002  \n",
      "\n",
      "[54432 rows x 8 columns]\n"
     ]
    }
   ],
   "source": [
    "df_RTR=pd.read_csv('Data\\RTReviews.tsv', delimiter='\\t',  encoding='latin1')\n",
    "print(df_RTR.isna().sum())\n",
    "print(df_RTR)"
   ]
  },
  {
   "cell_type": "markdown",
   "metadata": {},
   "source": [
    "#### Read the Movie DB CSV, convert it to a Panda Dataframe and assign it to the variable df_TMDB.\n",
    "#### Preview the data and check for missing values."
   ]
  },
  {
   "cell_type": "code",
   "execution_count": 5,
   "metadata": {},
   "outputs": [
    {
     "name": "stdout",
     "output_type": "stream",
     "text": [
      "Unnamed: 0           0\n",
      "genre_ids            0\n",
      "id                   0\n",
      "original_language    0\n",
      "original_title       0\n",
      "popularity           0\n",
      "release_date         0\n",
      "title                0\n",
      "vote_average         0\n",
      "vote_count           0\n",
      "dtype: int64\n",
      "       Unnamed: 0            genre_ids      id original_language  \\\n",
      "0               0      [12, 14, 10751]   12444                en   \n",
      "1               1  [14, 12, 16, 10751]   10191                en   \n",
      "2               2        [12, 28, 878]   10138                en   \n",
      "3               3      [16, 35, 10751]     862                en   \n",
      "4               4        [28, 878, 12]   27205                en   \n",
      "...           ...                  ...     ...               ...   \n",
      "26512       26512             [27, 18]  488143                en   \n",
      "26513       26513             [18, 53]  485975                en   \n",
      "26514       26514         [14, 28, 12]  381231                en   \n",
      "26515       26515      [10751, 12, 28]  366854                en   \n",
      "26516       26516             [53, 27]  309885                en   \n",
      "\n",
      "                                     original_title  popularity release_date  \\\n",
      "0      Harry Potter and the Deathly Hallows: Part 1      33.533   2010-11-19   \n",
      "1                          How to Train Your Dragon      28.734   2010-03-26   \n",
      "2                                        Iron Man 2      28.515   2010-05-07   \n",
      "3                                         Toy Story      28.005   1995-11-22   \n",
      "4                                         Inception      27.920   2010-07-16   \n",
      "...                                             ...         ...          ...   \n",
      "26512                         Laboratory Conditions       0.600   2018-10-13   \n",
      "26513                               _EXHIBIT_84xxx_       0.600   2018-05-01   \n",
      "26514                                  The Last One       0.600   2018-10-01   \n",
      "26515                                  Trailer Made       0.600   2018-06-22   \n",
      "26516                                    The Church       0.600   2018-10-05   \n",
      "\n",
      "                                              title  vote_average  vote_count  \n",
      "0      Harry Potter and the Deathly Hallows: Part 1           7.7       10788  \n",
      "1                          How to Train Your Dragon           7.7        7610  \n",
      "2                                        Iron Man 2           6.8       12368  \n",
      "3                                         Toy Story           7.9       10174  \n",
      "4                                         Inception           8.3       22186  \n",
      "...                                             ...           ...         ...  \n",
      "26512                         Laboratory Conditions           0.0           1  \n",
      "26513                               _EXHIBIT_84xxx_           0.0           1  \n",
      "26514                                  The Last One           0.0           1  \n",
      "26515                                  Trailer Made           0.0           1  \n",
      "26516                                    The Church           0.0           1  \n",
      "\n",
      "[26517 rows x 10 columns]\n"
     ]
    }
   ],
   "source": [
    "df_TMDB=pd.read_csv('Data\\TMDB.csv')\n",
    "print(df_TMDB.isna().sum())\n",
    "print(df_TMDB)"
   ]
  },
  {
   "cell_type": "code",
   "execution_count": 6,
   "metadata": {},
   "outputs": [
    {
     "data": {
      "text/plain": [
       "array(['en', 'nl', 'es', 'ja', 'sv', 'de', 'fr', 'cn', 'it', 'ru', 'zh',\n",
       "       'hi', 'no', 'ko', 'da', 'fi', 'pl', 'te', 'hu', 'tr', 'pt', 'he',\n",
       "       'fa', 'th', 'cs', 'et', 'tl', 'lt', 'xx', 'bs', 'ar', 'is', 'el',\n",
       "       'mr', 'hr', 'ro', 'sr', 'uk', 'nb', 'hz', 'ca', 'bg', 'sl', 'lv',\n",
       "       'si', 'ab', 'ta', 'bo', 'id', 'sq', 'bn', 'gu', 'lo', 'ne', 'kk',\n",
       "       'hy', 'ps', 'kn', 'vi', 'ku', 'ka', 'ml', 'ur', 'mi', 'eu', 'sn',\n",
       "       'cy', 'ha', 'ky', 'yi', 'pa', 'xh', 'cr', 'sw', 'af', 'dz'],\n",
       "      dtype=object)"
      ]
     },
     "execution_count": 6,
     "metadata": {},
     "output_type": "execute_result"
    }
   ],
   "source": [
    "unique_languages = df_TMDB['original_language'].unique()\n",
    "unique_languages"
   ]
  },
  {
   "cell_type": "markdown",
   "metadata": {},
   "source": [
    "#### Read the Numbers CSV, convert it to a Panda Dataframe and assign it to the variable df_TNumbers.\n",
    "#### Preview the data and check for missing values."
   ]
  },
  {
   "cell_type": "code",
   "execution_count": 7,
   "metadata": {},
   "outputs": [
    {
     "name": "stdout",
     "output_type": "stream",
     "text": [
      "id                   0\n",
      "release_date         0\n",
      "movie                0\n",
      "production_budget    0\n",
      "domestic_gross       0\n",
      "worldwide_gross      0\n",
      "dtype: int64\n",
      "      id  release_date                                        movie  \\\n",
      "0      1  Dec 18, 2009                                       Avatar   \n",
      "1      2  May 20, 2011  Pirates of the Caribbean: On Stranger Tides   \n",
      "2      3   Jun 7, 2019                                 Dark Phoenix   \n",
      "3      4   May 1, 2015                      Avengers: Age of Ultron   \n",
      "4      5  Dec 15, 2017            Star Wars Ep. VIII: The Last Jedi   \n",
      "...   ..           ...                                          ...   \n",
      "5777  78  Dec 31, 2018                                       Red 11   \n",
      "5778  79   Apr 2, 1999                                    Following   \n",
      "5779  80  Jul 13, 2005                Return to the Land of Wonders   \n",
      "5780  81  Sep 29, 2015                         A Plague So Pleasant   \n",
      "5781  82   Aug 5, 2005                            My Date With Drew   \n",
      "\n",
      "     production_budget domestic_gross worldwide_gross  \n",
      "0         $425,000,000   $760,507,625  $2,776,345,279  \n",
      "1         $410,600,000   $241,063,875  $1,045,663,875  \n",
      "2         $350,000,000    $42,762,350    $149,762,350  \n",
      "3         $330,600,000   $459,005,868  $1,403,013,963  \n",
      "4         $317,000,000   $620,181,382  $1,316,721,747  \n",
      "...                ...            ...             ...  \n",
      "5777            $7,000             $0              $0  \n",
      "5778            $6,000        $48,482        $240,495  \n",
      "5779            $5,000         $1,338          $1,338  \n",
      "5780            $1,400             $0              $0  \n",
      "5781            $1,100       $181,041        $181,041  \n",
      "\n",
      "[5782 rows x 6 columns]\n"
     ]
    }
   ],
   "source": [
    "df_TNumbers=pd.read_csv('Data\\TNumbers.csv')\n",
    "print(df_TNumbers.isna().sum())\n",
    "print(df_TNumbers)"
   ]
  },
  {
   "cell_type": "markdown",
   "metadata": {},
   "source": [
    "#### Read the IMDB sqlite database, convert it to a Panda Dataframe and assign it to the variable df_IMDB.\n",
    "#### Preview the data and check for missing values."
   ]
  },
  {
   "cell_type": "code",
   "execution_count": 8,
   "metadata": {},
   "outputs": [
    {
     "name": "stdout",
     "output_type": "stream",
     "text": [
      "Movie_Title       0\n",
      "Release_Year      0\n",
      "Genre           804\n",
      "AVG_Rating        0\n",
      "Num_of_Votes      0\n",
      "dtype: int64\n",
      "                                  Movie_Title  Release_Year  \\\n",
      "0                                 Pál Adrienn          2010   \n",
      "1                        So Much for Justice!          2010   \n",
      "2                Children of the Green Dragon          2010   \n",
      "3                           The Final Journey          2010   \n",
      "4      Quantum Quest: A Cassini Space Odyssey          2010   \n",
      "...                                       ...           ...   \n",
      "73851                            Swarm Season          2019   \n",
      "73852                        Diabolik sono io          2019   \n",
      "73853                       Sokagin Çocuklari          2019   \n",
      "73854              La vida sense la Sara Amat          2019   \n",
      "73855                              Drømmeland          2019   \n",
      "\n",
      "                            Genre  AVG_Rating  Num_of_Votes  \n",
      "0                           Drama         6.8           451  \n",
      "1                         History         4.6            64  \n",
      "2                           Drama         6.9           120  \n",
      "3                           Drama         8.8             8  \n",
      "4      Adventure,Animation,Sci-Fi         5.1           287  \n",
      "...                           ...         ...           ...  \n",
      "73851                 Documentary         6.2             5  \n",
      "73852                 Documentary         6.2             6  \n",
      "73853                Drama,Family         8.7           136  \n",
      "73854                        None         6.6             5  \n",
      "73855                 Documentary         6.5            11  \n",
      "\n",
      "[73856 rows x 5 columns]\n",
      "69993\n"
     ]
    }
   ],
   "source": [
    "conn = sqlite3.connect('Data\\IMDB.db')\n",
    "df_IMDB = pd.read_sql(\"\"\"\n",
    "SELECT primary_title AS Movie_Title, start_year AS Release_Year, genres AS Genre, averagerating AS AVG_Rating, numvotes AS Num_of_Votes\n",
    "  FROM movie_basics\n",
    "  JOIN movie_ratings \n",
    "  USING (movie_id)\n",
    "  ORDER BY Release_Year;\n",
    "\"\"\",conn)\n",
    "print(df_IMDB.isna().sum())\n",
    "print(df_IMDB)\n",
    "print(len(df_IMDB['Movie_Title'].unique()))\n"
   ]
  },
  {
   "cell_type": "markdown",
   "metadata": {},
   "source": [
    "### Data Preparation.\n",
    "### Objective: To create one clean dataset from the following movie datasets;\n",
    "###### From IMDB(Movie_Title, Release Year  AS Year, Genre, Avg_Rating)\n",
    "###### From Numbers CSV(production_budget AS Budget, worldwide_gross AS Revenue)\n",
    "###### From Movie DB( Original_language AS Language)\n",
    "###### From Box Office Mojo(studio AS Studio)"
   ]
  },
  {
   "cell_type": "code",
   "execution_count": 9,
   "metadata": {},
   "outputs": [
    {
     "name": "stdout",
     "output_type": "stream",
     "text": [
      "                                  Movie_Title  Release_Year  \\\n",
      "0                                 Pál Adrienn          2010   \n",
      "1                        So Much for Justice!          2010   \n",
      "2                Children of the Green Dragon          2010   \n",
      "3                           The Final Journey          2010   \n",
      "4      Quantum Quest: A Cassini Space Odyssey          2010   \n",
      "...                                       ...           ...   \n",
      "73850               Padmavyuhathile Abhimanyu          2019   \n",
      "73851                            Swarm Season          2019   \n",
      "73852                        Diabolik sono io          2019   \n",
      "73853                       Sokagin Çocuklari          2019   \n",
      "73854              La vida sense la Sara Amat          2019   \n",
      "\n",
      "                            Genre  AVG_Rating  Num_of_Votes  \n",
      "0                           Drama         6.8           451  \n",
      "1                         History         4.6            64  \n",
      "2                           Drama         6.9           120  \n",
      "3                           Drama         8.8             8  \n",
      "4      Adventure,Animation,Sci-Fi         5.1           287  \n",
      "...                           ...         ...           ...  \n",
      "73850                       Drama         8.4           365  \n",
      "73851                 Documentary         6.2             5  \n",
      "73852                 Documentary         6.2             6  \n",
      "73853                Drama,Family         8.7           136  \n",
      "73854                        None         6.6             5  \n",
      "\n",
      "[69993 rows x 5 columns]\n",
      "Movie_Title       0\n",
      "Release_Year      0\n",
      "Genre           775\n",
      "AVG_Rating        0\n",
      "Num_of_Votes      0\n",
      "dtype: int64\n"
     ]
    }
   ],
   "source": [
    "# IMDB will be our primary dataset since it has 4 of the 8 columns I am interested in.\n",
    "#Let's clean it up a bit by removing the duplicates using the Movie_Title column\n",
    "IMDB_unique = df_IMDB.drop_duplicates(subset=['Movie_Title'],keep = 'first')\n",
    "print(IMDB_unique)\n",
    "print(IMDB_unique.isna().sum())"
   ]
  },
  {
   "cell_type": "code",
   "execution_count": 10,
   "metadata": {},
   "outputs": [
    {
     "name": "stdout",
     "output_type": "stream",
     "text": [
      "               Movie_Title  Release_Year                       Genre  \\\n",
      "0            The Overnight          2010                        None   \n",
      "1         Anderson's Cross          2010        Comedy,Drama,Romance   \n",
      "2                  Tangled          2010  Adventure,Animation,Comedy   \n",
      "3      Dinner for Schmucks          2010                      Comedy   \n",
      "4               The A-Team          2010   Action,Adventure,Thriller   \n",
      "...                    ...           ...                         ...   \n",
      "2179  Blinded by the Light          2019      Biography,Comedy,Drama   \n",
      "2180          The Specials          2019                      Comedy   \n",
      "2181                Heroes          2019                 Documentary   \n",
      "2182                  Push          2019                 Documentary   \n",
      "2183             Unplanned          2019             Biography,Drama   \n",
      "\n",
      "      AVG_Rating                 movie production_budget worldwide_gross  \n",
      "0            7.5         The Overnight          $200,000      $1,165,996  \n",
      "1            5.5      Anderson's Cross          $300,000              $0  \n",
      "2            7.8               Tangled      $260,000,000    $586,477,240  \n",
      "3            5.9   Dinner for Schmucks       $69,000,000     $86,796,502  \n",
      "4            6.8            The A-Team      $110,000,000    $177,241,171  \n",
      "...          ...                   ...               ...             ...  \n",
      "2179         6.2  Blinded by the Light       $15,000,000              $0  \n",
      "2180         7.2          The Specials        $1,000,000         $12,996  \n",
      "2181         7.3                Heroes          $400,000        $655,538  \n",
      "2182         7.3                  Push       $38,000,000     $49,678,401  \n",
      "2183         6.3             Unplanned        $6,000,000     $18,107,621  \n",
      "\n",
      "[2184 rows x 7 columns]\n",
      "Movie_Title          0\n",
      "Release_Year         0\n",
      "Genre                2\n",
      "AVG_Rating           0\n",
      "movie                0\n",
      "production_budget    0\n",
      "worldwide_gross      0\n",
      "dtype: int64\n"
     ]
    }
   ],
   "source": [
    "# 1st merger( To combine IMDB dataset with the Numbers Dataset, to capture the Budget and Revenue columns)\n",
    "Merged_df1 = pd.merge(IMDB_unique[['Movie_Title', 'Release_Year', 'Genre', 'AVG_Rating']], df_TNumbers[['movie', 'production_budget', 'worldwide_gross']], how='inner', left_on='Movie_Title', right_on='movie')\n",
    "print(Merged_df1)\n",
    "print(Merged_df1.isna().sum())"
   ]
  },
  {
   "cell_type": "code",
   "execution_count": 11,
   "metadata": {},
   "outputs": [
    {
     "name": "stdout",
     "output_type": "stream",
     "text": [
      "                   Movie_Title  Release_Year                       Genre  \\\n",
      "0                The Overnight          2010                        None   \n",
      "1             Anderson's Cross          2010        Comedy,Drama,Romance   \n",
      "2                      Tangled          2010  Adventure,Animation,Comedy   \n",
      "3          Dinner for Schmucks          2010                      Comedy   \n",
      "4                   The A-Team          2010   Action,Adventure,Thriller   \n",
      "...                        ...           ...                         ...   \n",
      "2221  Dragon Ball Super: Broly          2018  Action,Adventure,Animation   \n",
      "2222          Teefa in Trouble          2018         Action,Comedy,Crime   \n",
      "2223           Fahrenheit 11/9          2018                 Documentary   \n",
      "2224                 Hit & Run          2019               Action,Comedy   \n",
      "2225                 Long Shot          2019              Comedy,Romance   \n",
      "\n",
      "      AVG_Rating production_budget worldwide_gross                     title  \\\n",
      "0            7.5          $200,000      $1,165,996             The Overnight   \n",
      "1            5.5          $300,000              $0          Anderson's Cross   \n",
      "2            7.8      $260,000,000    $586,477,240                   Tangled   \n",
      "3            5.9       $69,000,000     $86,796,502       Dinner for Schmucks   \n",
      "4            6.8      $110,000,000    $177,241,171                The A-Team   \n",
      "...          ...               ...             ...                       ...   \n",
      "2221         8.0        $8,500,000    $122,747,755  Dragon Ball Super: Broly   \n",
      "2222         7.4        $1,500,000         $98,806          Teefa in Trouble   \n",
      "2223         6.7        $5,000,000      $6,653,715           Fahrenheit 11/9   \n",
      "2224         7.1       $22,000,000     $17,216,955                 Hit & Run   \n",
      "2225         7.2       $40,000,000     $43,711,031                 Long Shot   \n",
      "\n",
      "     original_language  \n",
      "0                   en  \n",
      "1                   en  \n",
      "2                   en  \n",
      "3                   en  \n",
      "4                   en  \n",
      "...                ...  \n",
      "2221                ja  \n",
      "2222                ur  \n",
      "2223                en  \n",
      "2224                en  \n",
      "2225                en  \n",
      "\n",
      "[2226 rows x 8 columns]\n",
      "Movie_Title          0\n",
      "Release_Year         0\n",
      "Genre                2\n",
      "AVG_Rating           0\n",
      "production_budget    0\n",
      "worldwide_gross      0\n",
      "title                0\n",
      "original_language    0\n",
      "dtype: int64\n"
     ]
    }
   ],
   "source": [
    "#2nd Merger to Include the Movie DB into our dataset for the language column)\n",
    "Merged_df2 = pd.merge(Merged_df1[['Movie_Title', 'Release_Year', 'Genre', 'AVG_Rating', 'production_budget', 'worldwide_gross']], df_TMDB[['title', 'original_language']], how='inner', left_on='Movie_Title', right_on='title')\n",
    "print(Merged_df2)\n",
    "print(Merged_df2.isna().sum())"
   ]
  },
  {
   "cell_type": "code",
   "execution_count": 12,
   "metadata": {},
   "outputs": [
    {
     "data": {
      "text/html": [
       "<div>\n",
       "<style scoped>\n",
       "    .dataframe tbody tr th:only-of-type {\n",
       "        vertical-align: middle;\n",
       "    }\n",
       "\n",
       "    .dataframe tbody tr th {\n",
       "        vertical-align: top;\n",
       "    }\n",
       "\n",
       "    .dataframe thead th {\n",
       "        text-align: right;\n",
       "    }\n",
       "</style>\n",
       "<table border=\"1\" class=\"dataframe\">\n",
       "  <thead>\n",
       "    <tr style=\"text-align: right;\">\n",
       "      <th></th>\n",
       "      <th>Movie_Title</th>\n",
       "      <th>Release_Year</th>\n",
       "      <th>Genre</th>\n",
       "      <th>AVG_Rating</th>\n",
       "      <th>production_budget</th>\n",
       "      <th>worldwide_gross</th>\n",
       "      <th>original_language</th>\n",
       "      <th>studio</th>\n",
       "      <th>title</th>\n",
       "    </tr>\n",
       "  </thead>\n",
       "  <tbody>\n",
       "    <tr>\n",
       "      <th>0</th>\n",
       "      <td>Tangled</td>\n",
       "      <td>2010</td>\n",
       "      <td>Adventure,Animation,Comedy</td>\n",
       "      <td>7.8</td>\n",
       "      <td>$260,000,000</td>\n",
       "      <td>$586,477,240</td>\n",
       "      <td>en</td>\n",
       "      <td>BV</td>\n",
       "      <td>Tangled</td>\n",
       "    </tr>\n",
       "    <tr>\n",
       "      <th>1</th>\n",
       "      <td>Dinner for Schmucks</td>\n",
       "      <td>2010</td>\n",
       "      <td>Comedy</td>\n",
       "      <td>5.9</td>\n",
       "      <td>$69,000,000</td>\n",
       "      <td>$86,796,502</td>\n",
       "      <td>en</td>\n",
       "      <td>P/DW</td>\n",
       "      <td>Dinner for Schmucks</td>\n",
       "    </tr>\n",
       "    <tr>\n",
       "      <th>2</th>\n",
       "      <td>The A-Team</td>\n",
       "      <td>2010</td>\n",
       "      <td>Action,Adventure,Thriller</td>\n",
       "      <td>6.8</td>\n",
       "      <td>$110,000,000</td>\n",
       "      <td>$177,241,171</td>\n",
       "      <td>en</td>\n",
       "      <td>Fox</td>\n",
       "      <td>The A-Team</td>\n",
       "    </tr>\n",
       "    <tr>\n",
       "      <th>3</th>\n",
       "      <td>Toy Story 3</td>\n",
       "      <td>2010</td>\n",
       "      <td>Adventure,Animation,Comedy</td>\n",
       "      <td>8.3</td>\n",
       "      <td>$200,000,000</td>\n",
       "      <td>$1,068,879,522</td>\n",
       "      <td>en</td>\n",
       "      <td>BV</td>\n",
       "      <td>Toy Story 3</td>\n",
       "    </tr>\n",
       "    <tr>\n",
       "      <th>4</th>\n",
       "      <td>The Crazies</td>\n",
       "      <td>2010</td>\n",
       "      <td>Horror,Thriller</td>\n",
       "      <td>6.5</td>\n",
       "      <td>$19,000,000</td>\n",
       "      <td>$56,445,534</td>\n",
       "      <td>en</td>\n",
       "      <td>Over.</td>\n",
       "      <td>The Crazies</td>\n",
       "    </tr>\n",
       "    <tr>\n",
       "      <th>...</th>\n",
       "      <td>...</td>\n",
       "      <td>...</td>\n",
       "      <td>...</td>\n",
       "      <td>...</td>\n",
       "      <td>...</td>\n",
       "      <td>...</td>\n",
       "      <td>...</td>\n",
       "      <td>...</td>\n",
       "      <td>...</td>\n",
       "    </tr>\n",
       "    <tr>\n",
       "      <th>1362</th>\n",
       "      <td>Uncle Drew</td>\n",
       "      <td>2018</td>\n",
       "      <td>Comedy,Sport</td>\n",
       "      <td>5.7</td>\n",
       "      <td>$18,000,000</td>\n",
       "      <td>$46,527,161</td>\n",
       "      <td>en</td>\n",
       "      <td>LG/S</td>\n",
       "      <td>Uncle Drew</td>\n",
       "    </tr>\n",
       "    <tr>\n",
       "      <th>1363</th>\n",
       "      <td>BlacKkKlansman</td>\n",
       "      <td>2018</td>\n",
       "      <td>Biography,Crime,Drama</td>\n",
       "      <td>7.5</td>\n",
       "      <td>$15,000,000</td>\n",
       "      <td>$93,017,335</td>\n",
       "      <td>en</td>\n",
       "      <td>Focus</td>\n",
       "      <td>BlacKkKlansman</td>\n",
       "    </tr>\n",
       "    <tr>\n",
       "      <th>1364</th>\n",
       "      <td>Paul, Apostle of Christ</td>\n",
       "      <td>2018</td>\n",
       "      <td>Adventure,Biography,Drama</td>\n",
       "      <td>6.7</td>\n",
       "      <td>$5,000,000</td>\n",
       "      <td>$25,529,498</td>\n",
       "      <td>en</td>\n",
       "      <td>Affirm</td>\n",
       "      <td>Paul, Apostle of Christ</td>\n",
       "    </tr>\n",
       "    <tr>\n",
       "      <th>1365</th>\n",
       "      <td>Instant Family</td>\n",
       "      <td>2018</td>\n",
       "      <td>Comedy,Drama</td>\n",
       "      <td>7.4</td>\n",
       "      <td>$48,000,000</td>\n",
       "      <td>$119,736,188</td>\n",
       "      <td>en</td>\n",
       "      <td>Par.</td>\n",
       "      <td>Instant Family</td>\n",
       "    </tr>\n",
       "    <tr>\n",
       "      <th>1366</th>\n",
       "      <td>Hereditary</td>\n",
       "      <td>2018</td>\n",
       "      <td>Drama,Horror,Mystery</td>\n",
       "      <td>7.3</td>\n",
       "      <td>$10,000,000</td>\n",
       "      <td>$70,133,905</td>\n",
       "      <td>en</td>\n",
       "      <td>A24</td>\n",
       "      <td>Hereditary</td>\n",
       "    </tr>\n",
       "  </tbody>\n",
       "</table>\n",
       "<p>1367 rows × 9 columns</p>\n",
       "</div>"
      ],
      "text/plain": [
       "                  Movie_Title  Release_Year                       Genre  \\\n",
       "0                     Tangled          2010  Adventure,Animation,Comedy   \n",
       "1         Dinner for Schmucks          2010                      Comedy   \n",
       "2                  The A-Team          2010   Action,Adventure,Thriller   \n",
       "3                 Toy Story 3          2010  Adventure,Animation,Comedy   \n",
       "4                 The Crazies          2010             Horror,Thriller   \n",
       "...                       ...           ...                         ...   \n",
       "1362               Uncle Drew          2018                Comedy,Sport   \n",
       "1363           BlacKkKlansman          2018       Biography,Crime,Drama   \n",
       "1364  Paul, Apostle of Christ          2018   Adventure,Biography,Drama   \n",
       "1365           Instant Family          2018                Comedy,Drama   \n",
       "1366               Hereditary          2018        Drama,Horror,Mystery   \n",
       "\n",
       "      AVG_Rating production_budget worldwide_gross original_language  studio  \\\n",
       "0            7.8      $260,000,000    $586,477,240                en      BV   \n",
       "1            5.9       $69,000,000     $86,796,502                en    P/DW   \n",
       "2            6.8      $110,000,000    $177,241,171                en     Fox   \n",
       "3            8.3      $200,000,000  $1,068,879,522                en      BV   \n",
       "4            6.5       $19,000,000     $56,445,534                en   Over.   \n",
       "...          ...               ...             ...               ...     ...   \n",
       "1362         5.7       $18,000,000     $46,527,161                en    LG/S   \n",
       "1363         7.5       $15,000,000     $93,017,335                en   Focus   \n",
       "1364         6.7        $5,000,000     $25,529,498                en  Affirm   \n",
       "1365         7.4       $48,000,000    $119,736,188                en    Par.   \n",
       "1366         7.3       $10,000,000     $70,133,905                en     A24   \n",
       "\n",
       "                        title  \n",
       "0                     Tangled  \n",
       "1         Dinner for Schmucks  \n",
       "2                  The A-Team  \n",
       "3                 Toy Story 3  \n",
       "4                 The Crazies  \n",
       "...                       ...  \n",
       "1362               Uncle Drew  \n",
       "1363           BlacKkKlansman  \n",
       "1364  Paul, Apostle of Christ  \n",
       "1365           Instant Family  \n",
       "1366               Hereditary  \n",
       "\n",
       "[1367 rows x 9 columns]"
      ]
     },
     "execution_count": 12,
     "metadata": {},
     "output_type": "execute_result"
    }
   ],
   "source": [
    "#3rd Merger to capture the studio column from the Box Office Mojo Dataset\n",
    "Merged_df3 = pd.merge(Merged_df2[['Movie_Title', 'Release_Year', 'Genre', 'AVG_Rating', 'production_budget', 'worldwide_gross', 'original_language']], df_BOM[['studio', 'title']], how='inner', left_on='Movie_Title', right_on='title')\n",
    "Merged_df3"
   ]
  },
  {
   "cell_type": "markdown",
   "metadata": {},
   "source": [
    "###### Now that we've captured the target columns, let's rename the columns to our liking and assign that to a new variable DF_4_EDA"
   ]
  },
  {
   "cell_type": "code",
   "execution_count": 13,
   "metadata": {},
   "outputs": [
    {
     "name": "stdout",
     "output_type": "stream",
     "text": [
      "Movie_Title     object\n",
      "Year             int64\n",
      "Genre           object\n",
      "AVG_Rating     float64\n",
      "Budget          object\n",
      "Revenue         object\n",
      "Language        object\n",
      "Studio          object\n",
      "dtype: object\n"
     ]
    },
    {
     "data": {
      "text/html": [
       "<div>\n",
       "<style scoped>\n",
       "    .dataframe tbody tr th:only-of-type {\n",
       "        vertical-align: middle;\n",
       "    }\n",
       "\n",
       "    .dataframe tbody tr th {\n",
       "        vertical-align: top;\n",
       "    }\n",
       "\n",
       "    .dataframe thead th {\n",
       "        text-align: right;\n",
       "    }\n",
       "</style>\n",
       "<table border=\"1\" class=\"dataframe\">\n",
       "  <thead>\n",
       "    <tr style=\"text-align: right;\">\n",
       "      <th></th>\n",
       "      <th>Movie_Title</th>\n",
       "      <th>Year</th>\n",
       "      <th>Genre</th>\n",
       "      <th>AVG_Rating</th>\n",
       "      <th>Budget</th>\n",
       "      <th>Revenue</th>\n",
       "      <th>Language</th>\n",
       "      <th>Studio</th>\n",
       "    </tr>\n",
       "  </thead>\n",
       "  <tbody>\n",
       "    <tr>\n",
       "      <th>0</th>\n",
       "      <td>Tangled</td>\n",
       "      <td>2010</td>\n",
       "      <td>Adventure,Animation,Comedy</td>\n",
       "      <td>7.8</td>\n",
       "      <td>$260,000,000</td>\n",
       "      <td>$586,477,240</td>\n",
       "      <td>en</td>\n",
       "      <td>BV</td>\n",
       "    </tr>\n",
       "    <tr>\n",
       "      <th>1</th>\n",
       "      <td>Dinner for Schmucks</td>\n",
       "      <td>2010</td>\n",
       "      <td>Comedy</td>\n",
       "      <td>5.9</td>\n",
       "      <td>$69,000,000</td>\n",
       "      <td>$86,796,502</td>\n",
       "      <td>en</td>\n",
       "      <td>P/DW</td>\n",
       "    </tr>\n",
       "    <tr>\n",
       "      <th>2</th>\n",
       "      <td>The A-Team</td>\n",
       "      <td>2010</td>\n",
       "      <td>Action,Adventure,Thriller</td>\n",
       "      <td>6.8</td>\n",
       "      <td>$110,000,000</td>\n",
       "      <td>$177,241,171</td>\n",
       "      <td>en</td>\n",
       "      <td>Fox</td>\n",
       "    </tr>\n",
       "    <tr>\n",
       "      <th>3</th>\n",
       "      <td>Toy Story 3</td>\n",
       "      <td>2010</td>\n",
       "      <td>Adventure,Animation,Comedy</td>\n",
       "      <td>8.3</td>\n",
       "      <td>$200,000,000</td>\n",
       "      <td>$1,068,879,522</td>\n",
       "      <td>en</td>\n",
       "      <td>BV</td>\n",
       "    </tr>\n",
       "    <tr>\n",
       "      <th>4</th>\n",
       "      <td>The Crazies</td>\n",
       "      <td>2010</td>\n",
       "      <td>Horror,Thriller</td>\n",
       "      <td>6.5</td>\n",
       "      <td>$19,000,000</td>\n",
       "      <td>$56,445,534</td>\n",
       "      <td>en</td>\n",
       "      <td>Over.</td>\n",
       "    </tr>\n",
       "    <tr>\n",
       "      <th>...</th>\n",
       "      <td>...</td>\n",
       "      <td>...</td>\n",
       "      <td>...</td>\n",
       "      <td>...</td>\n",
       "      <td>...</td>\n",
       "      <td>...</td>\n",
       "      <td>...</td>\n",
       "      <td>...</td>\n",
       "    </tr>\n",
       "    <tr>\n",
       "      <th>1362</th>\n",
       "      <td>Uncle Drew</td>\n",
       "      <td>2018</td>\n",
       "      <td>Comedy,Sport</td>\n",
       "      <td>5.7</td>\n",
       "      <td>$18,000,000</td>\n",
       "      <td>$46,527,161</td>\n",
       "      <td>en</td>\n",
       "      <td>LG/S</td>\n",
       "    </tr>\n",
       "    <tr>\n",
       "      <th>1363</th>\n",
       "      <td>BlacKkKlansman</td>\n",
       "      <td>2018</td>\n",
       "      <td>Biography,Crime,Drama</td>\n",
       "      <td>7.5</td>\n",
       "      <td>$15,000,000</td>\n",
       "      <td>$93,017,335</td>\n",
       "      <td>en</td>\n",
       "      <td>Focus</td>\n",
       "    </tr>\n",
       "    <tr>\n",
       "      <th>1364</th>\n",
       "      <td>Paul, Apostle of Christ</td>\n",
       "      <td>2018</td>\n",
       "      <td>Adventure,Biography,Drama</td>\n",
       "      <td>6.7</td>\n",
       "      <td>$5,000,000</td>\n",
       "      <td>$25,529,498</td>\n",
       "      <td>en</td>\n",
       "      <td>Affirm</td>\n",
       "    </tr>\n",
       "    <tr>\n",
       "      <th>1365</th>\n",
       "      <td>Instant Family</td>\n",
       "      <td>2018</td>\n",
       "      <td>Comedy,Drama</td>\n",
       "      <td>7.4</td>\n",
       "      <td>$48,000,000</td>\n",
       "      <td>$119,736,188</td>\n",
       "      <td>en</td>\n",
       "      <td>Par.</td>\n",
       "    </tr>\n",
       "    <tr>\n",
       "      <th>1366</th>\n",
       "      <td>Hereditary</td>\n",
       "      <td>2018</td>\n",
       "      <td>Drama,Horror,Mystery</td>\n",
       "      <td>7.3</td>\n",
       "      <td>$10,000,000</td>\n",
       "      <td>$70,133,905</td>\n",
       "      <td>en</td>\n",
       "      <td>A24</td>\n",
       "    </tr>\n",
       "  </tbody>\n",
       "</table>\n",
       "<p>1367 rows × 8 columns</p>\n",
       "</div>"
      ],
      "text/plain": [
       "                  Movie_Title  Year                       Genre  AVG_Rating  \\\n",
       "0                     Tangled  2010  Adventure,Animation,Comedy         7.8   \n",
       "1         Dinner for Schmucks  2010                      Comedy         5.9   \n",
       "2                  The A-Team  2010   Action,Adventure,Thriller         6.8   \n",
       "3                 Toy Story 3  2010  Adventure,Animation,Comedy         8.3   \n",
       "4                 The Crazies  2010             Horror,Thriller         6.5   \n",
       "...                       ...   ...                         ...         ...   \n",
       "1362               Uncle Drew  2018                Comedy,Sport         5.7   \n",
       "1363           BlacKkKlansman  2018       Biography,Crime,Drama         7.5   \n",
       "1364  Paul, Apostle of Christ  2018   Adventure,Biography,Drama         6.7   \n",
       "1365           Instant Family  2018                Comedy,Drama         7.4   \n",
       "1366               Hereditary  2018        Drama,Horror,Mystery         7.3   \n",
       "\n",
       "            Budget         Revenue Language  Studio  \n",
       "0     $260,000,000    $586,477,240       en      BV  \n",
       "1      $69,000,000     $86,796,502       en    P/DW  \n",
       "2     $110,000,000    $177,241,171       en     Fox  \n",
       "3     $200,000,000  $1,068,879,522       en      BV  \n",
       "4      $19,000,000     $56,445,534       en   Over.  \n",
       "...            ...             ...      ...     ...  \n",
       "1362   $18,000,000     $46,527,161       en    LG/S  \n",
       "1363   $15,000,000     $93,017,335       en   Focus  \n",
       "1364    $5,000,000     $25,529,498       en  Affirm  \n",
       "1365   $48,000,000    $119,736,188       en    Par.  \n",
       "1366   $10,000,000     $70,133,905       en     A24  \n",
       "\n",
       "[1367 rows x 8 columns]"
      ]
     },
     "execution_count": 13,
     "metadata": {},
     "output_type": "execute_result"
    }
   ],
   "source": [
    "DF_4_EDA = Merged_df3.rename(columns={'Release_Year': 'Year', 'production_budget': 'Budget', 'worldwide_gross': 'Revenue', 'original_language': 'Language', 'studio': 'Studio'})\n",
    "DF_4_EDA.drop(columns=['title'], inplace=True)\n",
    "print(DF_4_EDA.dtypes)\n",
    "DF_4_EDA"
   ]
  },
  {
   "cell_type": "markdown",
   "metadata": {},
   "source": [
    "##### Now let's include another column that captures the profitability of each movie. \n",
    "\n",
    "##### Financial Metric of Choice:\n",
    "  Revenue to Cost Ratio. Initialized as RCR.\n",
    "##### Formula:\n",
    " RCR = Revenue/Budget\n",
    "###### Why RCR?\n",
    "  This ratio helps to determine the efficiency of a movie in terms of generating revenue from the budget allocated. A higher RCR indicates that the movie is more efficient in generating revenue from its allocated budget, while a lower RCR would mean the direct opposite of that.\n",
    "\n",
    "A RCR of 1 would mean the movie broke_even. I.e the Movie generated enough Revenue to match the amount spent (budget). \n",
    "  \n",
    "Hence if:            \n",
    "             \n",
    "             RCR > 1  _ Movie was Profitable \n",
    "             RCR < 1  _ Movie was not Profitable\n",
    " \n",
    " "
   ]
  },
  {
   "cell_type": "code",
   "execution_count": 14,
   "metadata": {},
   "outputs": [
    {
     "name": "stdout",
     "output_type": "stream",
     "text": [
      "Movie_Title     object\n",
      "Year             int64\n",
      "Genre           object\n",
      "AVG_Rating     float64\n",
      "Budget           int64\n",
      "Revenue          int64\n",
      "Language        object\n",
      "Studio          object\n",
      "RCR            float64\n",
      "dtype: object\n",
      "                  Movie_Title  Year                       Genre  AVG_Rating  \\\n",
      "0                     Tangled  2010  Adventure,Animation,Comedy         7.8   \n",
      "1         Dinner for Schmucks  2010                      Comedy         5.9   \n",
      "2                  The A-Team  2010   Action,Adventure,Thriller         6.8   \n",
      "3                 Toy Story 3  2010  Adventure,Animation,Comedy         8.3   \n",
      "4                 The Crazies  2010             Horror,Thriller         6.5   \n",
      "...                       ...   ...                         ...         ...   \n",
      "1362               Uncle Drew  2018                Comedy,Sport         5.7   \n",
      "1363           BlacKkKlansman  2018       Biography,Crime,Drama         7.5   \n",
      "1364  Paul, Apostle of Christ  2018   Adventure,Biography,Drama         6.7   \n",
      "1365           Instant Family  2018                Comedy,Drama         7.4   \n",
      "1366               Hereditary  2018        Drama,Horror,Mystery         7.3   \n",
      "\n",
      "         Budget     Revenue Language  Studio       RCR  \n",
      "0     260000000   586477240       en      BV  2.255682  \n",
      "1      69000000    86796502       en    P/DW  1.257920  \n",
      "2     110000000   177241171       en     Fox  1.611283  \n",
      "3     200000000  1068879522       en      BV  5.344398  \n",
      "4      19000000    56445534       en   Over.  2.970818  \n",
      "...         ...         ...      ...     ...       ...  \n",
      "1362   18000000    46527161       en    LG/S  2.584842  \n",
      "1363   15000000    93017335       en   Focus  6.201156  \n",
      "1364    5000000    25529498       en  Affirm  5.105900  \n",
      "1365   48000000   119736188       en    Par.  2.494504  \n",
      "1366   10000000    70133905       en     A24  7.013390  \n",
      "\n",
      "[1367 rows x 9 columns]\n"
     ]
    }
   ],
   "source": [
    "# Remove the , and $ from the Budget and Revenue columns\n",
    "# convert the items to a Numeric format that will allow for the mathematical calculation in the next line\n",
    "DF_4_EDA['Revenue'] = pd.to_numeric(DF_4_EDA['Revenue'].astype(str).str.replace('$','').str.replace(',',''))\n",
    "DF_4_EDA['Budget'] = pd.to_numeric(DF_4_EDA['Budget'].astype(str).str.replace('$','').str.replace(',',''))\n",
    "DF_4_EDA['RCR'] = DF_4_EDA['Revenue'] / DF_4_EDA['Budget']\n",
    "print(DF_4_EDA.dtypes)\n",
    "print(DF_4_EDA)"
   ]
  },
  {
   "cell_type": "code",
   "execution_count": 15,
   "metadata": {},
   "outputs": [
    {
     "data": {
      "text/html": [
       "<div>\n",
       "<style scoped>\n",
       "    .dataframe tbody tr th:only-of-type {\n",
       "        vertical-align: middle;\n",
       "    }\n",
       "\n",
       "    .dataframe tbody tr th {\n",
       "        vertical-align: top;\n",
       "    }\n",
       "\n",
       "    .dataframe thead th {\n",
       "        text-align: right;\n",
       "    }\n",
       "</style>\n",
       "<table border=\"1\" class=\"dataframe\">\n",
       "  <thead>\n",
       "    <tr style=\"text-align: right;\">\n",
       "      <th></th>\n",
       "      <th>Movie_Title</th>\n",
       "      <th>Year</th>\n",
       "      <th>Genre</th>\n",
       "      <th>AVG_Rating</th>\n",
       "      <th>Budget</th>\n",
       "      <th>Revenue</th>\n",
       "      <th>Language</th>\n",
       "      <th>Studio</th>\n",
       "      <th>RCR</th>\n",
       "    </tr>\n",
       "  </thead>\n",
       "  <tbody>\n",
       "    <tr>\n",
       "      <th>0</th>\n",
       "      <td>Tangled</td>\n",
       "      <td>2010</td>\n",
       "      <td>Adventure,Animation,Comedy</td>\n",
       "      <td>7.8</td>\n",
       "      <td>260000000</td>\n",
       "      <td>586477240</td>\n",
       "      <td>en</td>\n",
       "      <td>BV</td>\n",
       "      <td>2.255682</td>\n",
       "    </tr>\n",
       "    <tr>\n",
       "      <th>1</th>\n",
       "      <td>Dinner for Schmucks</td>\n",
       "      <td>2010</td>\n",
       "      <td>Comedy</td>\n",
       "      <td>5.9</td>\n",
       "      <td>69000000</td>\n",
       "      <td>86796502</td>\n",
       "      <td>en</td>\n",
       "      <td>P/DW</td>\n",
       "      <td>1.257920</td>\n",
       "    </tr>\n",
       "    <tr>\n",
       "      <th>2</th>\n",
       "      <td>The A-Team</td>\n",
       "      <td>2010</td>\n",
       "      <td>Action,Adventure,Thriller</td>\n",
       "      <td>6.8</td>\n",
       "      <td>110000000</td>\n",
       "      <td>177241171</td>\n",
       "      <td>en</td>\n",
       "      <td>Fox</td>\n",
       "      <td>1.611283</td>\n",
       "    </tr>\n",
       "    <tr>\n",
       "      <th>3</th>\n",
       "      <td>Toy Story 3</td>\n",
       "      <td>2010</td>\n",
       "      <td>Adventure,Animation,Comedy</td>\n",
       "      <td>8.3</td>\n",
       "      <td>200000000</td>\n",
       "      <td>1068879522</td>\n",
       "      <td>en</td>\n",
       "      <td>BV</td>\n",
       "      <td>5.344398</td>\n",
       "    </tr>\n",
       "    <tr>\n",
       "      <th>4</th>\n",
       "      <td>The Crazies</td>\n",
       "      <td>2010</td>\n",
       "      <td>Horror,Thriller</td>\n",
       "      <td>6.5</td>\n",
       "      <td>19000000</td>\n",
       "      <td>56445534</td>\n",
       "      <td>en</td>\n",
       "      <td>Over.</td>\n",
       "      <td>2.970818</td>\n",
       "    </tr>\n",
       "    <tr>\n",
       "      <th>...</th>\n",
       "      <td>...</td>\n",
       "      <td>...</td>\n",
       "      <td>...</td>\n",
       "      <td>...</td>\n",
       "      <td>...</td>\n",
       "      <td>...</td>\n",
       "      <td>...</td>\n",
       "      <td>...</td>\n",
       "      <td>...</td>\n",
       "    </tr>\n",
       "    <tr>\n",
       "      <th>1362</th>\n",
       "      <td>Uncle Drew</td>\n",
       "      <td>2018</td>\n",
       "      <td>Comedy,Sport</td>\n",
       "      <td>5.7</td>\n",
       "      <td>18000000</td>\n",
       "      <td>46527161</td>\n",
       "      <td>en</td>\n",
       "      <td>LG/S</td>\n",
       "      <td>2.584842</td>\n",
       "    </tr>\n",
       "    <tr>\n",
       "      <th>1363</th>\n",
       "      <td>BlacKkKlansman</td>\n",
       "      <td>2018</td>\n",
       "      <td>Biography,Crime,Drama</td>\n",
       "      <td>7.5</td>\n",
       "      <td>15000000</td>\n",
       "      <td>93017335</td>\n",
       "      <td>en</td>\n",
       "      <td>Focus</td>\n",
       "      <td>6.201156</td>\n",
       "    </tr>\n",
       "    <tr>\n",
       "      <th>1364</th>\n",
       "      <td>Paul, Apostle of Christ</td>\n",
       "      <td>2018</td>\n",
       "      <td>Adventure,Biography,Drama</td>\n",
       "      <td>6.7</td>\n",
       "      <td>5000000</td>\n",
       "      <td>25529498</td>\n",
       "      <td>en</td>\n",
       "      <td>Affirm</td>\n",
       "      <td>5.105900</td>\n",
       "    </tr>\n",
       "    <tr>\n",
       "      <th>1365</th>\n",
       "      <td>Instant Family</td>\n",
       "      <td>2018</td>\n",
       "      <td>Comedy,Drama</td>\n",
       "      <td>7.4</td>\n",
       "      <td>48000000</td>\n",
       "      <td>119736188</td>\n",
       "      <td>en</td>\n",
       "      <td>Par.</td>\n",
       "      <td>2.494504</td>\n",
       "    </tr>\n",
       "    <tr>\n",
       "      <th>1366</th>\n",
       "      <td>Hereditary</td>\n",
       "      <td>2018</td>\n",
       "      <td>Drama,Horror,Mystery</td>\n",
       "      <td>7.3</td>\n",
       "      <td>10000000</td>\n",
       "      <td>70133905</td>\n",
       "      <td>en</td>\n",
       "      <td>A24</td>\n",
       "      <td>7.013390</td>\n",
       "    </tr>\n",
       "  </tbody>\n",
       "</table>\n",
       "<p>1143 rows × 9 columns</p>\n",
       "</div>"
      ],
      "text/plain": [
       "                  Movie_Title  Year                       Genre  AVG_Rating  \\\n",
       "0                     Tangled  2010  Adventure,Animation,Comedy         7.8   \n",
       "1         Dinner for Schmucks  2010                      Comedy         5.9   \n",
       "2                  The A-Team  2010   Action,Adventure,Thriller         6.8   \n",
       "3                 Toy Story 3  2010  Adventure,Animation,Comedy         8.3   \n",
       "4                 The Crazies  2010             Horror,Thriller         6.5   \n",
       "...                       ...   ...                         ...         ...   \n",
       "1362               Uncle Drew  2018                Comedy,Sport         5.7   \n",
       "1363           BlacKkKlansman  2018       Biography,Crime,Drama         7.5   \n",
       "1364  Paul, Apostle of Christ  2018   Adventure,Biography,Drama         6.7   \n",
       "1365           Instant Family  2018                Comedy,Drama         7.4   \n",
       "1366               Hereditary  2018        Drama,Horror,Mystery         7.3   \n",
       "\n",
       "         Budget     Revenue Language  Studio       RCR  \n",
       "0     260000000   586477240       en      BV  2.255682  \n",
       "1      69000000    86796502       en    P/DW  1.257920  \n",
       "2     110000000   177241171       en     Fox  1.611283  \n",
       "3     200000000  1068879522       en      BV  5.344398  \n",
       "4      19000000    56445534       en   Over.  2.970818  \n",
       "...         ...         ...      ...     ...       ...  \n",
       "1362   18000000    46527161       en    LG/S  2.584842  \n",
       "1363   15000000    93017335       en   Focus  6.201156  \n",
       "1364    5000000    25529498       en  Affirm  5.105900  \n",
       "1365   48000000   119736188       en    Par.  2.494504  \n",
       "1366   10000000    70133905       en     A24  7.013390  \n",
       "\n",
       "[1143 rows x 9 columns]"
      ]
     },
     "execution_count": 15,
     "metadata": {},
     "output_type": "execute_result"
    }
   ],
   "source": [
    "#Dropping rows with duplicates in the Movie_Title column\n",
    "Unique_Dataset =DF_4_EDA.drop_duplicates(subset=['Movie_Title'])\n",
    "Unique_Dataset"
   ]
  },
  {
   "cell_type": "markdown",
   "metadata": {},
   "source": [
    "##### Now that we have a clean and unique dataset from the multiple sources provided, let's look at the financially successful movies(Profitable_Movies) and use that to advice the client accordingly.\n"
   ]
  },
  {
   "cell_type": "code",
   "execution_count": 16,
   "metadata": {},
   "outputs": [
    {
     "data": {
      "text/html": [
       "<div>\n",
       "<style scoped>\n",
       "    .dataframe tbody tr th:only-of-type {\n",
       "        vertical-align: middle;\n",
       "    }\n",
       "\n",
       "    .dataframe tbody tr th {\n",
       "        vertical-align: top;\n",
       "    }\n",
       "\n",
       "    .dataframe thead th {\n",
       "        text-align: right;\n",
       "    }\n",
       "</style>\n",
       "<table border=\"1\" class=\"dataframe\">\n",
       "  <thead>\n",
       "    <tr style=\"text-align: right;\">\n",
       "      <th></th>\n",
       "      <th>Movie_Title</th>\n",
       "      <th>Year</th>\n",
       "      <th>Genre</th>\n",
       "      <th>AVG_Rating</th>\n",
       "      <th>Budget</th>\n",
       "      <th>Revenue</th>\n",
       "      <th>Language</th>\n",
       "      <th>Studio</th>\n",
       "      <th>RCR</th>\n",
       "    </tr>\n",
       "  </thead>\n",
       "  <tbody>\n",
       "    <tr>\n",
       "      <th>0</th>\n",
       "      <td>Tangled</td>\n",
       "      <td>2010</td>\n",
       "      <td>Adventure,Animation,Comedy</td>\n",
       "      <td>7.8</td>\n",
       "      <td>260000000</td>\n",
       "      <td>586477240</td>\n",
       "      <td>en</td>\n",
       "      <td>BV</td>\n",
       "      <td>2.255682</td>\n",
       "    </tr>\n",
       "    <tr>\n",
       "      <th>1</th>\n",
       "      <td>Dinner for Schmucks</td>\n",
       "      <td>2010</td>\n",
       "      <td>Comedy</td>\n",
       "      <td>5.9</td>\n",
       "      <td>69000000</td>\n",
       "      <td>86796502</td>\n",
       "      <td>en</td>\n",
       "      <td>P/DW</td>\n",
       "      <td>1.257920</td>\n",
       "    </tr>\n",
       "    <tr>\n",
       "      <th>2</th>\n",
       "      <td>The A-Team</td>\n",
       "      <td>2010</td>\n",
       "      <td>Action,Adventure,Thriller</td>\n",
       "      <td>6.8</td>\n",
       "      <td>110000000</td>\n",
       "      <td>177241171</td>\n",
       "      <td>en</td>\n",
       "      <td>Fox</td>\n",
       "      <td>1.611283</td>\n",
       "    </tr>\n",
       "    <tr>\n",
       "      <th>3</th>\n",
       "      <td>Toy Story 3</td>\n",
       "      <td>2010</td>\n",
       "      <td>Adventure,Animation,Comedy</td>\n",
       "      <td>8.3</td>\n",
       "      <td>200000000</td>\n",
       "      <td>1068879522</td>\n",
       "      <td>en</td>\n",
       "      <td>BV</td>\n",
       "      <td>5.344398</td>\n",
       "    </tr>\n",
       "    <tr>\n",
       "      <th>4</th>\n",
       "      <td>The Crazies</td>\n",
       "      <td>2010</td>\n",
       "      <td>Horror,Thriller</td>\n",
       "      <td>6.5</td>\n",
       "      <td>19000000</td>\n",
       "      <td>56445534</td>\n",
       "      <td>en</td>\n",
       "      <td>Over.</td>\n",
       "      <td>2.970818</td>\n",
       "    </tr>\n",
       "    <tr>\n",
       "      <th>...</th>\n",
       "      <td>...</td>\n",
       "      <td>...</td>\n",
       "      <td>...</td>\n",
       "      <td>...</td>\n",
       "      <td>...</td>\n",
       "      <td>...</td>\n",
       "      <td>...</td>\n",
       "      <td>...</td>\n",
       "      <td>...</td>\n",
       "    </tr>\n",
       "    <tr>\n",
       "      <th>1362</th>\n",
       "      <td>Uncle Drew</td>\n",
       "      <td>2018</td>\n",
       "      <td>Comedy,Sport</td>\n",
       "      <td>5.7</td>\n",
       "      <td>18000000</td>\n",
       "      <td>46527161</td>\n",
       "      <td>en</td>\n",
       "      <td>LG/S</td>\n",
       "      <td>2.584842</td>\n",
       "    </tr>\n",
       "    <tr>\n",
       "      <th>1363</th>\n",
       "      <td>BlacKkKlansman</td>\n",
       "      <td>2018</td>\n",
       "      <td>Biography,Crime,Drama</td>\n",
       "      <td>7.5</td>\n",
       "      <td>15000000</td>\n",
       "      <td>93017335</td>\n",
       "      <td>en</td>\n",
       "      <td>Focus</td>\n",
       "      <td>6.201156</td>\n",
       "    </tr>\n",
       "    <tr>\n",
       "      <th>1364</th>\n",
       "      <td>Paul, Apostle of Christ</td>\n",
       "      <td>2018</td>\n",
       "      <td>Adventure,Biography,Drama</td>\n",
       "      <td>6.7</td>\n",
       "      <td>5000000</td>\n",
       "      <td>25529498</td>\n",
       "      <td>en</td>\n",
       "      <td>Affirm</td>\n",
       "      <td>5.105900</td>\n",
       "    </tr>\n",
       "    <tr>\n",
       "      <th>1365</th>\n",
       "      <td>Instant Family</td>\n",
       "      <td>2018</td>\n",
       "      <td>Comedy,Drama</td>\n",
       "      <td>7.4</td>\n",
       "      <td>48000000</td>\n",
       "      <td>119736188</td>\n",
       "      <td>en</td>\n",
       "      <td>Par.</td>\n",
       "      <td>2.494504</td>\n",
       "    </tr>\n",
       "    <tr>\n",
       "      <th>1366</th>\n",
       "      <td>Hereditary</td>\n",
       "      <td>2018</td>\n",
       "      <td>Drama,Horror,Mystery</td>\n",
       "      <td>7.3</td>\n",
       "      <td>10000000</td>\n",
       "      <td>70133905</td>\n",
       "      <td>en</td>\n",
       "      <td>A24</td>\n",
       "      <td>7.013390</td>\n",
       "    </tr>\n",
       "  </tbody>\n",
       "</table>\n",
       "<p>911 rows × 9 columns</p>\n",
       "</div>"
      ],
      "text/plain": [
       "                  Movie_Title  Year                       Genre  AVG_Rating  \\\n",
       "0                     Tangled  2010  Adventure,Animation,Comedy         7.8   \n",
       "1         Dinner for Schmucks  2010                      Comedy         5.9   \n",
       "2                  The A-Team  2010   Action,Adventure,Thriller         6.8   \n",
       "3                 Toy Story 3  2010  Adventure,Animation,Comedy         8.3   \n",
       "4                 The Crazies  2010             Horror,Thriller         6.5   \n",
       "...                       ...   ...                         ...         ...   \n",
       "1362               Uncle Drew  2018                Comedy,Sport         5.7   \n",
       "1363           BlacKkKlansman  2018       Biography,Crime,Drama         7.5   \n",
       "1364  Paul, Apostle of Christ  2018   Adventure,Biography,Drama         6.7   \n",
       "1365           Instant Family  2018                Comedy,Drama         7.4   \n",
       "1366               Hereditary  2018        Drama,Horror,Mystery         7.3   \n",
       "\n",
       "         Budget     Revenue Language  Studio       RCR  \n",
       "0     260000000   586477240       en      BV  2.255682  \n",
       "1      69000000    86796502       en    P/DW  1.257920  \n",
       "2     110000000   177241171       en     Fox  1.611283  \n",
       "3     200000000  1068879522       en      BV  5.344398  \n",
       "4      19000000    56445534       en   Over.  2.970818  \n",
       "...         ...         ...      ...     ...       ...  \n",
       "1362   18000000    46527161       en    LG/S  2.584842  \n",
       "1363   15000000    93017335       en   Focus  6.201156  \n",
       "1364    5000000    25529498       en  Affirm  5.105900  \n",
       "1365   48000000   119736188       en    Par.  2.494504  \n",
       "1366   10000000    70133905       en     A24  7.013390  \n",
       "\n",
       "[911 rows x 9 columns]"
      ]
     },
     "execution_count": 16,
     "metadata": {},
     "output_type": "execute_result"
    }
   ],
   "source": [
    "# Let's filter our unique/clean dataset to just \n",
    "Profitable_Movies = Unique_Dataset[Unique_Dataset['RCR'] > 1]\n",
    "Profitable_Movies\n"
   ]
  },
  {
   "cell_type": "markdown",
   "metadata": {},
   "source": [
    "### 1. Which movie genres consistently demonstrate both popularity and profitability?\n",
    "Objective:\n",
    "\n",
    "Determine the various genres present in the dataset of profitable movies and identify the most popular ones."
   ]
  },
  {
   "cell_type": "code",
   "execution_count": 17,
   "metadata": {},
   "outputs": [
    {
     "name": "stdout",
     "output_type": "stream",
     "text": [
      "Drama          414\n",
      "Comedy         348\n",
      "Action         274\n",
      "Adventure      248\n",
      "Thriller       157\n",
      "Crime          124\n",
      "Romance        124\n",
      "Horror          96\n",
      "Sci-Fi          88\n",
      "Animation       80\n",
      "Mystery         79\n",
      "Fantasy         77\n",
      "Biography       72\n",
      "Family          61\n",
      "Music           26\n",
      "History         22\n",
      "Sport           16\n",
      "Documentary     13\n",
      "War              5\n",
      "Musical          4\n",
      "Western          2\n",
      "dtype: int64\n",
      "Drama        414\n",
      "Comedy       348\n",
      "Action       274\n",
      "Adventure    248\n",
      "Thriller     157\n",
      "Crime        124\n",
      "Romance      124\n",
      "Horror        96\n",
      "Sci-Fi        88\n",
      "Animation     80\n",
      "Mystery       79\n",
      "Fantasy       77\n",
      "Biography     72\n",
      "Family        61\n",
      "Music         26\n",
      "dtype: int64\n"
     ]
    }
   ],
   "source": [
    "# Given most movies in the dataset have more than one genre. i.e The movie 'Tangled' = Adventure, Animation, Comedy.\n",
    "# The code below checks for the no. of times each individual genre appears in the dataset.\n",
    "genre_counts = (Profitable_Movies['Genre'].str.split(',', expand=True).stack().reset_index(level=1, drop=True)).value_counts()\n",
    "Top15_genre_counts = genre_counts.head(15)\n",
    "print(genre_counts)\n",
    "print(Top15_genre_counts)\n",
    "\n"
   ]
  },
  {
   "cell_type": "code",
   "execution_count": 18,
   "metadata": {},
   "outputs": [
    {
     "data": {
      "image/png": "[encoded data removed]",
      "text/plain": [
       "<Figure size 720x432 with 1 Axes>"
      ]
     },
     "metadata": {
      "needs_background": "light"
     },
     "output_type": "display_data"
    }
   ],
   "source": [
    "#Let's plot that in a graph\n",
    "\n",
    "plt.figure(figsize=(10, 6))  \n",
    "Top15_genre_counts.plot(kind='bar', color='teal')\n",
    "\n",
    "# Adding titles and labels\n",
    "plt.title('Number of Movies by Genre')\n",
    "plt.xlabel('Genre')\n",
    "plt.ylabel('Number of Movies')\n",
    "\n",
    "# Rotating x-axis labels for better readability if necessary\n",
    "plt.xticks(rotation=45)\n",
    "\n",
    "# Show the plot\n",
    "plt.tight_layout()  # Adjust the layout to make room for the rotated x-axis labels\n",
    "plt.show()"
   ]
  },
  {
   "cell_type": "code",
   "execution_count": 19,
   "metadata": {},
   "outputs": [
    {
     "name": "stdout",
     "output_type": "stream",
     "text": [
      "Findings : The most popular genres amongst profitable movies are ['Drama', 'Comedy', 'Action', 'Adventure', 'Thriller', 'Crime', 'Romance', 'Horror', 'Sci-Fi', 'Animation', 'Mystery', 'Fantasy', 'Biography', 'Family', 'Music'].\n"
     ]
    }
   ],
   "source": [
    "Y = Top15_genre_counts.index.tolist()\n",
    "print(f\"Findings : The most popular genres amongst profitable movies are {Y}.\")"
   ]
  },
  {
   "cell_type": "markdown",
   "metadata": {},
   "source": [
    "### Recommendation:\n",
    "Microsoft should focus on producing movies across a diverse range of genres, including Drama, Comedy, Action, Adventure, Thriller, Crime, Romance, Horror, Sci-Fi, Animation, Mystery, Fantasy, Biography, Family, and Music. Embracing this broad spectrum of genres will enable Microsoft to cater to a wide audience base and maximize its potential for success in the film industry."
   ]
  },
  {
   "cell_type": "markdown",
   "metadata": {},
   "source": [
    "### 2. How does budget correlate with revenue generation in profitable movies?\n",
    "Objective:\n",
    "1. Establish the relationship between Revenue and Budget for profitable movies.\n",
    "2. Get the average Budget and corresponding average Revenue for profitable movies.\n"
   ]
  },
  {
   "cell_type": "code",
   "execution_count": 20,
   "metadata": {},
   "outputs": [
    {
     "data": {
      "image/png": "[encoded data removed]",
      "text/plain": [
       "<Figure size 720x432 with 1 Axes>"
      ]
     },
     "metadata": {
      "needs_background": "light"
     },
     "output_type": "display_data"
    }
   ],
   "source": [
    "#Plotting a scatter plot to show the Relationship between Budget and Revenue for Profitable Movies.\n",
    "\n",
    "\n",
    "# Set the figure size\n",
    "plt.figure(figsize=(10, 6))  \n",
    "\n",
    "# Create a scatter plot with Budget on the x-axis and Revenue on the y-axis\n",
    "plt.scatter(Profitable_Movies['Budget'], Profitable_Movies['Revenue'], alpha=0.5, color='blue')\n",
    "\n",
    "# Add a title and labels to the axes\n",
    "plt.title('Budget vs Revenue of Profitable Movies')\n",
    "plt.xlabel('Budget (in Billions)')\n",
    "plt.ylabel('Revenue (in Billions)')\n",
    "\n",
    "# Add a trend line\n",
    "z = np.polyfit(Profitable_Movies['Budget'], Profitable_Movies['Revenue'], 1)\n",
    "p = np.poly1d(z)\n",
    "plt.plot(Profitable_Movies['Budget'], p(Profitable_Movies['Budget']), \"r--\")\n",
    "\n",
    "# Show the plot\n",
    "# Add grid for better readability\n",
    "plt.grid(True)  \n",
    "plt.show()"
   ]
  },
  {
   "cell_type": "markdown",
   "metadata": {},
   "source": [
    "Findings: From our scatter plot above, we see that that an increase in budget will result to an increase in Revenue.\n"
   ]
  },
  {
   "cell_type": "code",
   "execution_count": 23,
   "metadata": {},
   "outputs": [
    {
     "name": "stdout",
     "output_type": "stream",
     "text": [
      "Findings: With an average budget of $54,675,837.16, The expected average revenue would be $197,635,321.08 per movie.\n"
     ]
    }
   ],
   "source": [
    "# Set the locale to use commas as separators\n",
    "locale.setlocale(locale.LC_ALL, '')\n",
    "\n",
    "# Calculate the average revenue and budget\n",
    "average_revenue = Profitable_Movies['Revenue'].mean()\n",
    "average_budget = Profitable_Movies['Budget'].mean()\n",
    "\n",
    "# Format the numbers with commas as separators\n",
    "formatted_average_revenue = locale.format_string(\"%.2f\", average_revenue, grouping=True)\n",
    "formatted_average_budget = locale.format_string(\"%.2f\", average_budget, grouping=True)\n",
    "\n",
    "# Print the result with formatted output using f-strings\n",
    "print(f\"Findings: With an average budget of ${formatted_average_budget}, The expected average revenue would be ${formatted_average_revenue} per movie.\")"
   ]
  },
  {
   "cell_type": "markdown",
   "metadata": {},
   "source": [
    "### Recommendation:\n",
    "By allocating an approximate budget of 54 million per movie, Microsoft stands to anticipate a substantial return, projecting revenue in the vicinity of 197 million. This strategic investment could pave the way for significant success and profitability in the movie industry.\n"
   ]
  },
  {
   "cell_type": "markdown",
   "metadata": {},
   "source": [
    "### 3. Among the profitable movies, which original language is the most prevalent?\n"
   ]
  },
  {
   "cell_type": "code",
   "execution_count": null,
   "metadata": {},
   "outputs": [
    {
     "data": {
      "image/png": "[encoded data removed]",
      "text/plain": [
       "<Figure size 720x432 with 1 Axes>"
      ]
     },
     "metadata": {
      "needs_background": "light"
     },
     "output_type": "display_data"
    }
   ],
   "source": [
    "language_counts = Profitable_Movies['Language'].value_counts()\n",
    "\n",
    "# Now, plot a bar chart\n",
    "plt.figure(figsize=(10, 6))  # Set the figure size for better readability\n",
    "\n",
    "# Plotting\n",
    "language_counts.plot(kind='bar', color='skyblue')\n",
    "\n",
    "# Adding titles and labels\n",
    "plt.title('Number of Profitable Movies by Language')\n",
    "plt.xlabel('Language')\n",
    "plt.ylabel('Number of Movies')\n",
    "\n",
    "# Rotating x-axis labels for better readability\n",
    "plt.xticks(rotation=45)\n",
    "\n",
    "# Show the plot\n",
    "plt.tight_layout() \n",
    "plt.show()"
   ]
  },
  {
   "cell_type": "markdown",
   "metadata": {},
   "source": [
    "Findings: Based on the histogram displayed, it's evident that the original language for the vast majority of profitable movies in our sample dataset is English (en).\n"
   ]
  },
  {
   "cell_type": "markdown",
   "metadata": {},
   "source": [
    "### Recommendation:\n",
    "Producing movies in English (en) could be a strategic choice for Microsoft Studios."
   ]
  },
  {
   "cell_type": "markdown",
   "metadata": {},
   "source": [
    "### 4. Who are the key competitors in the target industry?\n",
    "Let's see how the top performing studios are doing.\n"
   ]
  },
  {
   "cell_type": "code",
   "execution_count": null,
   "metadata": {},
   "outputs": [
    {
     "data": {
      "text/plain": [
       "Fox        98\n",
       "Uni.       98\n",
       "WB         84\n",
       "BV         64\n",
       "Sony       63\n",
       "Par.       62\n",
       "LGF        48\n",
       "WB (NL)    34\n",
       "Focus      34\n",
       "FoxS       34\n",
       "Wein.      31\n",
       "LG/S       22\n",
       "SGem       21\n",
       "Name: Studio, dtype: int64"
      ]
     },
     "execution_count": 123,
     "metadata": {},
     "output_type": "execute_result"
    }
   ],
   "source": [
    "# Let's first count the number of movies per studio\n",
    "studio_counts = Profitable_Movies['Studio'].value_counts()\n",
    "\n",
    "# Filter studios with more than 20 movies\n",
    "over_20_movies= studio_counts[studio_counts > 20]\n",
    "\n",
    "over_20_movies\n"
   ]
  },
  {
   "cell_type": "code",
   "execution_count": null,
   "metadata": {},
   "outputs": [
    {
     "data": {
      "image/png": "[encoded data removed]",
      "text/plain": [
       "<Figure size 864x576 with 1 Axes>"
      ]
     },
     "metadata": {
      "needs_background": "light"
     },
     "output_type": "display_data"
    }
   ],
   "source": [
    "#plot a bar chart\n",
    "plt.figure(figsize=(12, 8))  \n",
    "\n",
    "# Plotting\n",
    ".plot(kind='bar', color='lightgreen')\n",
    "\n",
    "# Adding titles and labels\n",
    "plt.title('Number of Profitable Movies by Studio')\n",
    "plt.xlabel('Studio')\n",
    "plt.ylabel('Number of Movies')\n",
    "\n",
    "# Rotating x-axis labels for better readability\n",
    "plt.xticks(rotation=90)\n",
    "\n",
    "# Show the plot\n",
    "plt.tight_layout() \n",
    "plt.show()"
   ]
  },
  {
   "cell_type": "markdown",
   "metadata": {},
   "source": [
    "#### What is the competition's profitability index?\n",
    "Using Average RCR as the measure."
   ]
  },
  {
   "cell_type": "code",
   "execution_count": null,
   "metadata": {
    "scrolled": true
   },
   "outputs": [
    {
     "name": "stdout",
     "output_type": "stream",
     "text": [
      "Top Studios with more than 20 movies by Average RCR:\n",
      "Studio\n",
      "WB (NL)    18.965936\n",
      "Uni.        7.958279\n",
      "Par.        7.668550\n",
      "Wein.       5.727038\n",
      "FoxS        5.689731\n",
      "LGF         5.201731\n",
      "LG/S        5.112730\n",
      "SGem        4.321982\n",
      "Sony        3.808602\n",
      "Fox         3.692234\n",
      "WB          3.685242\n",
      "BV          3.493336\n",
      "Focus       3.386798\n",
      "Name: RCR, dtype: float64\n"
     ]
    }
   ],
   "source": [
    "\n",
    "popular_studios = studio_counts[studio_counts > 20].index\n",
    "\n",
    "# Filter the dataset to include only movies from popular studios\n",
    "popular_studios_movies = Profitable_Movies[Profitable_Movies['Studio'].isin(popular_studios)]\n",
    "\n",
    "# Group the filtered dataset by 'Studio'\n",
    "studio_groups = popular_studios_movies.groupby('Studio')\n",
    "\n",
    "# Calculate the mean RCR for each studio\n",
    "avg_rcr_by_studio = studio_groups['RCR'].mean()\n",
    "\n",
    "# Sort studios based on their average RCR in descending order\n",
    "top_studios_by_rcr = avg_rcr_by_studio.sort_values(ascending=False)\n",
    "\n",
    "# Print the top studios by their average RCR\n",
    "print(\"Top Studios with more than 20 movies by Average RCR:\")\n",
    "print(top_studios_by_rcr)"
   ]
  },
  {
   "cell_type": "code",
   "execution_count": null,
   "metadata": {
    "scrolled": false
   },
   "outputs": [
    {
     "data": {
      "image/png": "[encoded data removed]",
      "text/plain": [
       "<Figure size 864x576 with 1 Axes>"
      ]
     },
     "metadata": {
      "needs_background": "light"
     },
     "output_type": "display_data"
    }
   ],
   "source": [
    "#plot a bar chart\n",
    "plt.figure(figsize=(12, 8))  \n",
    "\n",
    "# Plotting\n",
    "top_studios_by_rcr.plot(kind='bar', color='blue')\n",
    "\n",
    "# Adding titles and labels\n",
    "plt.title('Average RCR Per Studio')\n",
    "plt.xlabel('Studio')\n",
    "plt.ylabel('Avg RCR')\n",
    "\n",
    "# Rotating x-axis labels for better readability\n",
    "plt.xticks(rotation=90)\n",
    "\n",
    "# Show the plot\n",
    "plt.tight_layout() \n",
    "plt.show()"
   ]
  },
  {
   "cell_type": "markdown",
   "metadata": {},
   "source": [
    "Findings: In anlysis of the two graphs above, it is evident that volumes in movies produced don't necessarily translate to effectiveness in making profits.\n",
    "Fox Studio has the most movies in terms of volumes but falls short in terms of the profitability index per movie(as shown above by the avg RCR)."
   ]
  },
  {
   "cell_type": "markdown",
   "metadata": {},
   "source": [
    "### Recommendation : \n",
    "Microsoft could emulate the successful model of WB (NL) Studios. Despite ranking 8th in the number of movies produced within our sample data, WB (NL) stands out significantly with the highest profitability index per movie. Following their approach could lead to enhanced profitability and success in Microsoft's movie production endeavors."
   ]
  },
  {
   "cell_type": "markdown",
   "metadata": {},
   "source": [
    "### 5. What is the relationship between movie ratings and revenue generation, and how do factors such as production budget influence this relationship?\n",
    "Objective:\n",
    "\n",
    "What is the Average Rating of a profitable movie?\n",
    "\n",
    "Does budget affect rating?\n",
    "\n",
    "Does rating affect revenue?"
   ]
  },
  {
   "cell_type": "code",
   "execution_count": null,
   "metadata": {},
   "outputs": [
    {
     "name": "stdout",
     "output_type": "stream",
     "text": [
      "Findings: The Average Rating of a profitable movie is 6.49.\n"
     ]
    }
   ],
   "source": [
    "x = round(Profitable_Movies['AVG_Rating'].mean(),2)\n",
    "print(f\"Findings: The Average Rating of a profitable movie is {x}.\")"
   ]
  },
  {
   "cell_type": "code",
   "execution_count": null,
   "metadata": {},
   "outputs": [
    {
     "data": {
      "image/png": "[encoded data removed]",
      "text/plain": [
       "<Figure size 720x432 with 1 Axes>"
      ]
     },
     "metadata": {
      "needs_background": "light"
     },
     "output_type": "display_data"
    }
   ],
   "source": [
    "plt.figure(figsize=(10, 6))\n",
    "plt.scatter(Profitable_Movies['Budget'], Profitable_Movies['AVG_Rating'], alpha=0.5, color='blue')\n",
    "\n",
    "# Add a trend line\n",
    "z = np.polyfit(Profitable_Movies['Budget'], Profitable_Movies['AVG_Rating'], 1)\n",
    "p = np.poly1d(z)\n",
    "plt.plot(Profitable_Movies['Budget'], p(Profitable_Movies['Budget']), \"r--\")\n",
    "\n",
    "# Add titles and labels\n",
    "plt.title('Budget vs Average Rating')\n",
    "plt.xlabel('Budget (In Billions)')\n",
    "plt.ylabel('AVG_Rating')\n",
    "\n",
    "# Show the plot\n",
    "plt.grid(True)\n",
    "plt.show()"
   ]
  },
  {
   "cell_type": "code",
   "execution_count": null,
   "metadata": {},
   "outputs": [],
   "source": [
    "Findings: The AVG_rating increases with the budget."
   ]
  },
  {
   "cell_type": "code",
   "execution_count": null,
   "metadata": {},
   "outputs": [
    {
     "data": {
      "image/png": "[encoded data removed]",
      "text/plain": [
       "<Figure size 720x432 with 1 Axes>"
      ]
     },
     "metadata": {
      "needs_background": "light"
     },
     "output_type": "display_data"
    }
   ],
   "source": [
    "plt.figure(figsize=(10, 6))\n",
    "plt.scatter(Profitable_Movies['AVG_Rating'], Profitable_Movies['Revenue'], alpha=0.5, color='blue')\n",
    "\n",
    "# Add a trend line\n",
    "z = np.polyfit(Profitable_Movies['AVG_Rating'], Profitable_Movies['Revenue'], 1)\n",
    "p = np.poly1d(z)\n",
    "plt.plot(Profitable_Movies['AVG_Rating'], p(Profitable_Movies['AVG_Rating']), \"r--\")\n",
    "\n",
    "# Add titles and labels\n",
    "plt.title('Average Rating vs. Revenue')\n",
    "plt.xlabel('AVG_Rating')\n",
    "plt.ylabel('Revenue (In Billions)')\n",
    "\n",
    "# Show the plot\n",
    "plt.grid(True)\n",
    "plt.show()"
   ]
  },
  {
   "cell_type": "markdown",
   "metadata": {},
   "source": [
    "Findings: As per the scatter plot above, highly rated movies tend to have a higher revenue."
   ]
  },
  {
   "cell_type": "markdown",
   "metadata": {},
   "source": [
    "### Recommendation:\n",
    "Microsoft's substantial investment in movie production, particularly in budget allocation, promises to yield high-quality productions. This commitment to quality is likely to garner favorable ratings, ultimately translating into significant revenue returns."
   ]
  },
  {
   "cell_type": "markdown",
   "metadata": {},
   "source": [
    "### Conclusion\n",
    "Although there are numerous factors to consider in future analyses, the recommendations re_listed below are poised to pave the way for a prosperous endeavor as Microsoft ventures into the movie industry. By implementing these recommendations, Microsoft can position itself for success:.\n",
    "1. Microsoft should focus on producing movies across a diverse range of genres, including Drama, Comedy, Action, Adventure, Thriller, Crime, Romance, Horror, Sci-Fi, Animation, Mystery, Fantasy, Biography, Family, and Music. Embracing this broad spectrum of genres will enable Microsoft to cater to a wide audience base and maximize its potential for success in the film industry.\n",
    "2. By allocating an approximate budget of 54 million per movie, Microsoft stands to anticipate a substantial return, projecting revenue in the vicinity of 197 million. This strategic investment could pave the way for significant success and profitability in the movie industry.\n",
    "3. Producing movies in English (en) could be a strategic choice for Microsoft Studios\n",
    "4. Microsoft could emulate the successful model of WB (NL) Studios. Despite ranking 8th in the number of movies produced within our sample data, WB (NL) stands out significantly with the highest profitability index per movie. Following their approach could lead to enhanced profitability and success in Microsoft's movie production endeavors.\n",
    "5. Microsoft's substantial investment in movie production, particularly in budget allocation, promises to yield high-quality productions. This commitment to quality is likely to garner favorable ratings, ultimately translating into significant revenue returns.\n"
   ]
  }
 ],
 "metadata": {
  "kernelspec": {
   "display_name": "learn-env",
   "language": "python",
   "name": "python3"
  },
  "language_info": {
   "codemirror_mode": {
    "name": "ipython",
    "version": 3
   },
   "file_extension": ".py",
   "mimetype": "text/x-python",
   "name": "python",
   "nbconvert_exporter": "python",
   "pygments_lexer": "ipython3",
   "version": "3.8.5"
  }
 },
 "nbformat": 4,
 "nbformat_minor": 2
}
